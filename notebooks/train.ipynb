{
 "cells": [
  {
   "cell_type": "code",
   "execution_count": 95,
   "id": "85c843f7",
   "metadata": {},
   "outputs": [
    {
     "name": "stdout",
     "output_type": "stream",
     "text": [
      "Libraries imported!\n"
     ]
    }
   ],
   "source": [
    "# imports\n",
    "import pandas as pd\n",
    "import numpy as np\n",
    "import mlflow\n",
    "import mlflow.sklearn\n",
    "from sklearn.model_selection import train_test_split\n",
    "from sklearn.preprocessing import StandardScaler, RobustScaler, MinMaxScaler, OneHotEncoder\n",
    "from sklearn.impute import SimpleImputer, KNNImputer\n",
    "from sklearn.pipeline import Pipeline\n",
    "from sklearn.compose import ColumnTransformer\n",
    "from sklearn.metrics import mean_absolute_error, r2_score, mean_squared_error\n",
    "from scipy.stats import uniform, randint\n",
    "from sklearn.model_selection import RandomizedSearchCV\n",
    "import random\n",
    "from pathlib import Path\n",
    "import boto3, os\n",
    "\n",
    "# models\n",
    "from sklearn.linear_model import LinearRegression, Ridge, Lasso\n",
    "from sklearn.ensemble import RandomForestRegressor, GradientBoostingRegressor\n",
    "\n",
    "print(\"Libraries imported!\")"
   ]
  },
  {
   "cell_type": "code",
   "execution_count": 96,
   "id": "882b786f",
   "metadata": {},
   "outputs": [
    {
     "name": "stdout",
     "output_type": "stream",
     "text": [
      "Data loaded!\n"
     ]
    }
   ],
   "source": [
    "# data loading\n",
    "df = pd.read_csv('/Users/salikali/VSCodeProjects/Uni/MLOps/Project/Taste-Karachi/data/train_set.csv')\n",
    "print(\"Data loaded!\")"
   ]
  },
  {
   "cell_type": "code",
   "execution_count": 97,
   "id": "6a365fdd",
   "metadata": {},
   "outputs": [
    {
     "data": {
      "text/html": [
       "<div>\n",
       "<style scoped>\n",
       "    .dataframe tbody tr th:only-of-type {\n",
       "        vertical-align: middle;\n",
       "    }\n",
       "\n",
       "    .dataframe tbody tr th {\n",
       "        vertical-align: top;\n",
       "    }\n",
       "\n",
       "    .dataframe thead th {\n",
       "        text-align: right;\n",
       "    }\n",
       "</style>\n",
       "<table border=\"1\" class=\"dataframe\">\n",
       "  <thead>\n",
       "    <tr style=\"text-align: right;\">\n",
       "      <th></th>\n",
       "      <th>area</th>\n",
       "      <th>price_level</th>\n",
       "      <th>latitude</th>\n",
       "      <th>longitude</th>\n",
       "      <th>category</th>\n",
       "      <th>dine_in</th>\n",
       "      <th>takeout</th>\n",
       "      <th>delivery</th>\n",
       "      <th>reservable</th>\n",
       "      <th>serves_breakfast</th>\n",
       "      <th>...</th>\n",
       "      <th>restroom</th>\n",
       "      <th>parking_free_lot</th>\n",
       "      <th>parking_free_street</th>\n",
       "      <th>accepts_debit_cards</th>\n",
       "      <th>accepts_cash_only</th>\n",
       "      <th>wheelchair_accessible</th>\n",
       "      <th>is_open_24_7</th>\n",
       "      <th>open_after_midnight</th>\n",
       "      <th>is_closed_any_day</th>\n",
       "      <th>rating</th>\n",
       "    </tr>\n",
       "  </thead>\n",
       "  <tbody>\n",
       "    <tr>\n",
       "      <th>0</th>\n",
       "      <td>Gulshan-e-Iqbal</td>\n",
       "      <td>PRICE_LEVEL_INEXPENSIVE</td>\n",
       "      <td>24.863728</td>\n",
       "      <td>67.153379</td>\n",
       "      <td>Restaurant</td>\n",
       "      <td>True</td>\n",
       "      <td>True</td>\n",
       "      <td>True</td>\n",
       "      <td>False</td>\n",
       "      <td>True</td>\n",
       "      <td>...</td>\n",
       "      <td>True</td>\n",
       "      <td>True</td>\n",
       "      <td>True</td>\n",
       "      <td>False</td>\n",
       "      <td>True</td>\n",
       "      <td>False</td>\n",
       "      <td>True</td>\n",
       "      <td>False</td>\n",
       "      <td>False</td>\n",
       "      <td>4.2</td>\n",
       "    </tr>\n",
       "    <tr>\n",
       "      <th>1</th>\n",
       "      <td>Surjani Town</td>\n",
       "      <td>PRICE_LEVEL_INEXPENSIVE</td>\n",
       "      <td>25.011558</td>\n",
       "      <td>67.057304</td>\n",
       "      <td>Restaurant</td>\n",
       "      <td>True</td>\n",
       "      <td>True</td>\n",
       "      <td>True</td>\n",
       "      <td>False</td>\n",
       "      <td>True</td>\n",
       "      <td>...</td>\n",
       "      <td>False</td>\n",
       "      <td>False</td>\n",
       "      <td>True</td>\n",
       "      <td>False</td>\n",
       "      <td>True</td>\n",
       "      <td>False</td>\n",
       "      <td>True</td>\n",
       "      <td>False</td>\n",
       "      <td>False</td>\n",
       "      <td>4.2</td>\n",
       "    </tr>\n",
       "    <tr>\n",
       "      <th>2</th>\n",
       "      <td>PECHS</td>\n",
       "      <td>PRICE_LEVEL_MODERATE</td>\n",
       "      <td>24.868304</td>\n",
       "      <td>67.057431</td>\n",
       "      <td>Bakery</td>\n",
       "      <td>True</td>\n",
       "      <td>True</td>\n",
       "      <td>True</td>\n",
       "      <td>False</td>\n",
       "      <td>True</td>\n",
       "      <td>...</td>\n",
       "      <td>True</td>\n",
       "      <td>False</td>\n",
       "      <td>True</td>\n",
       "      <td>True</td>\n",
       "      <td>False</td>\n",
       "      <td>False</td>\n",
       "      <td>False</td>\n",
       "      <td>False</td>\n",
       "      <td>False</td>\n",
       "      <td>4.5</td>\n",
       "    </tr>\n",
       "    <tr>\n",
       "      <th>3</th>\n",
       "      <td>PECHS</td>\n",
       "      <td>PRICE_LEVEL_MODERATE</td>\n",
       "      <td>24.866186</td>\n",
       "      <td>67.077431</td>\n",
       "      <td>Restaurant</td>\n",
       "      <td>True</td>\n",
       "      <td>True</td>\n",
       "      <td>True</td>\n",
       "      <td>True</td>\n",
       "      <td>True</td>\n",
       "      <td>...</td>\n",
       "      <td>True</td>\n",
       "      <td>True</td>\n",
       "      <td>True</td>\n",
       "      <td>True</td>\n",
       "      <td>False</td>\n",
       "      <td>False</td>\n",
       "      <td>False</td>\n",
       "      <td>True</td>\n",
       "      <td>False</td>\n",
       "      <td>4.5</td>\n",
       "    </tr>\n",
       "    <tr>\n",
       "      <th>4</th>\n",
       "      <td>Gulshan-e-Iqbal</td>\n",
       "      <td>PRICE_LEVEL_MODERATE</td>\n",
       "      <td>24.904308</td>\n",
       "      <td>67.077439</td>\n",
       "      <td>Restaurant</td>\n",
       "      <td>True</td>\n",
       "      <td>True</td>\n",
       "      <td>True</td>\n",
       "      <td>True</td>\n",
       "      <td>False</td>\n",
       "      <td>...</td>\n",
       "      <td>True</td>\n",
       "      <td>True</td>\n",
       "      <td>True</td>\n",
       "      <td>True</td>\n",
       "      <td>False</td>\n",
       "      <td>True</td>\n",
       "      <td>True</td>\n",
       "      <td>False</td>\n",
       "      <td>False</td>\n",
       "      <td>3.9</td>\n",
       "    </tr>\n",
       "  </tbody>\n",
       "</table>\n",
       "<p>5 rows × 29 columns</p>\n",
       "</div>"
      ],
      "text/plain": [
       "              area              price_level   latitude  longitude    category  \\\n",
       "0  Gulshan-e-Iqbal  PRICE_LEVEL_INEXPENSIVE  24.863728  67.153379  Restaurant   \n",
       "1     Surjani Town  PRICE_LEVEL_INEXPENSIVE  25.011558  67.057304  Restaurant   \n",
       "2            PECHS     PRICE_LEVEL_MODERATE  24.868304  67.057431      Bakery   \n",
       "3            PECHS     PRICE_LEVEL_MODERATE  24.866186  67.077431  Restaurant   \n",
       "4  Gulshan-e-Iqbal     PRICE_LEVEL_MODERATE  24.904308  67.077439  Restaurant   \n",
       "\n",
       "   dine_in  takeout  delivery  reservable  serves_breakfast  ...  restroom  \\\n",
       "0     True     True      True       False              True  ...      True   \n",
       "1     True     True      True       False              True  ...     False   \n",
       "2     True     True      True       False              True  ...      True   \n",
       "3     True     True      True        True              True  ...      True   \n",
       "4     True     True      True        True             False  ...      True   \n",
       "\n",
       "   parking_free_lot  parking_free_street  accepts_debit_cards  \\\n",
       "0              True                 True                False   \n",
       "1             False                 True                False   \n",
       "2             False                 True                 True   \n",
       "3              True                 True                 True   \n",
       "4              True                 True                 True   \n",
       "\n",
       "   accepts_cash_only  wheelchair_accessible  is_open_24_7  \\\n",
       "0               True                  False          True   \n",
       "1               True                  False          True   \n",
       "2              False                  False         False   \n",
       "3              False                  False         False   \n",
       "4              False                   True          True   \n",
       "\n",
       "   open_after_midnight  is_closed_any_day  rating  \n",
       "0                False              False     4.2  \n",
       "1                False              False     4.2  \n",
       "2                False              False     4.5  \n",
       "3                 True              False     4.5  \n",
       "4                False              False     3.9  \n",
       "\n",
       "[5 rows x 29 columns]"
      ]
     },
     "execution_count": 97,
     "metadata": {},
     "output_type": "execute_result"
    }
   ],
   "source": [
    "df.head()"
   ]
  },
  {
   "cell_type": "code",
   "execution_count": 98,
   "id": "0c37d27f",
   "metadata": {},
   "outputs": [],
   "source": [
    "# --- 1. Define Column Lists ---\n",
    "\n",
    "# Your 'object' columns to be encoded\n",
    "CATEGORICAL_COLS = [\n",
    "    'area', \n",
    "    'price_level', \n",
    "    'category'\n",
    "]\n",
    "\n",
    "# Your 'float64' columns to be scaled\n",
    "NUMERIC_COLS = [\n",
    "    'latitude', \n",
    "    'longitude'\n",
    "]\n",
    "\n",
    "# All of your 'bool' columns to be left alone\n",
    "# This list is now corrected to match your DataFrame\n",
    "BINARY_COLS = [\n",
    "    'dine_in', 'takeout', 'delivery', 'reservable', 'serves_breakfast', \n",
    "    'serves_lunch', 'serves_dinner', 'serves_coffee', 'serves_dessert', \n",
    "    'outdoor_seating', 'live_music', 'good_for_children', 'good_for_groups', \n",
    "    'good_for_watching_sports', 'restroom', 'parking_free_lot', \n",
    "    'parking_free_street', 'accepts_debit_cards', 'accepts_cash_only', \n",
    "    'wheelchair_accessible', 'is_open_24_7', 'open_after_midnight', \n",
    "    'is_closed_any_day'\n",
    "]\n",
    "\n",
    "# Create the final list of all features\n",
    "FEATURES = CATEGORICAL_COLS + NUMERIC_COLS + BINARY_COLS\n",
    "TARGET = 'rating'"
   ]
  },
  {
   "cell_type": "code",
   "execution_count": 99,
   "id": "23af9d0d",
   "metadata": {},
   "outputs": [],
   "source": [
    "# --- 2. Create Preprocessing Pipelines ---\n",
    "\n",
    "# Create pipeline for categorical ('object') features:\n",
    "# We use OneHotEncoder to turn categories into numerical columns.\n",
    "# handle_unknown='ignore' prevents errors if new data has a category \n",
    "# that wasn't in the training data.\n",
    "categorical_transformer = Pipeline(steps=[\n",
    "    ('onehot', OneHotEncoder(handle_unknown='ignore'))\n",
    "])\n",
    "\n",
    "# Create pipeline for numeric ('float64') features:\n",
    "# StandardScaler puts all features on the same scale.\n",
    "numeric_transformer = Pipeline(steps=[\n",
    "    ('scaler', StandardScaler())\n",
    "])"
   ]
  },
  {
   "cell_type": "code",
   "execution_count": 100,
   "id": "490a5f9c",
   "metadata": {},
   "outputs": [
    {
     "name": "stdout",
     "output_type": "stream",
     "text": [
      "Preprocessing pipeline created successfully!\n",
      "ColumnTransformer(transformers=[('cat',\n",
      "                                 Pipeline(steps=[('onehot',\n",
      "                                                  OneHotEncoder(handle_unknown='ignore'))]),\n",
      "                                 ['area', 'price_level', 'category']),\n",
      "                                ('num',\n",
      "                                 Pipeline(steps=[('scaler', StandardScaler())]),\n",
      "                                 ['latitude', 'longitude']),\n",
      "                                ('bin', 'passthrough',\n",
      "                                 ['dine_in', 'takeout', 'delivery',\n",
      "                                  'reservable', 'serves_breakfast',\n",
      "                                  'serves_lunch', 'serves_dinner',\n",
      "                                  'serves_coffee', 'serves_dessert',\n",
      "                                  'outdoor_seating', 'live_music',\n",
      "                                  'good_for_children', 'good_for_groups',\n",
      "                                  'good_for_watching_sports', 'restroom',\n",
      "                                  'parking_free_lot', 'parking_free_street',\n",
      "                                  'accepts_debit_cards', 'accepts_cash_only',\n",
      "                                  'wheelchair_accessible', 'is_open_24_7',\n",
      "                                  'open_after_midnight',\n",
      "                                  'is_closed_any_day'])])\n"
     ]
    }
   ],
   "source": [
    "# --- 3. Build the Master ColumnTransformer ---\n",
    "\n",
    "preprocessor = ColumnTransformer(\n",
    "    transformers=[\n",
    "        ('cat', categorical_transformer, CATEGORICAL_COLS),\n",
    "        ('num', numeric_transformer, NUMERIC_COLS),\n",
    "        ('bin', 'passthrough', BINARY_COLS) # 'passthrough' leaves these columns untouched\n",
    "    ])\n",
    "\n",
    "print(\"Preprocessing pipeline created successfully!\")\n",
    "print(preprocessor)"
   ]
  },
  {
   "cell_type": "code",
   "execution_count": 101,
   "id": "c3097606",
   "metadata": {},
   "outputs": [
    {
     "name": "stdout",
     "output_type": "stream",
     "text": [
      "Data is ready. Training with 582 rows.\n"
     ]
    }
   ],
   "source": [
    "# --- 2. Create X and y, then Split Data ---\n",
    "FEATURES = NUMERIC_COLS + CATEGORICAL_COLS + BINARY_COLS\n",
    "\n",
    "\n",
    "y = df[TARGET]\n",
    "X = df[FEATURES]\n",
    "\n",
    "X_train, X_test, y_train, y_test = train_test_split(X, y, test_size=0.2, random_state=42)\n",
    "\n",
    "print(f\"Data is ready. Training with {len(X_train)} rows.\")"
   ]
  },
  {
   "cell_type": "code",
   "execution_count": 102,
   "id": "66d9c944",
   "metadata": {},
   "outputs": [
    {
     "name": "stdout",
     "output_type": "stream",
     "text": [
      "MLflow Tracking URI: http://54.196.196.185:5000\n"
     ]
    }
   ],
   "source": [
    "MLFLOW_TRACKING_URI = \"http://54.196.196.185:5000\"\n",
    "mlflow.set_tracking_uri(MLFLOW_TRACKING_URI)\n",
    "print(f\"MLflow Tracking URI: {mlflow.get_tracking_uri()}\")\n",
    "\n",
    "# 🔥 ADD THIS LINE - Force artifact proxying through server\n",
    "os.environ['MLFLOW_ARTIFACTS_DESTINATION'] = MLFLOW_TRACKING_URI"
   ]
  },
  {
   "cell_type": "code",
   "execution_count": 103,
   "id": "3228b0a5",
   "metadata": {},
   "outputs": [
    {
     "name": "stderr",
     "output_type": "stream",
     "text": [
      "2025/10/31 23:36:48 INFO mlflow.tracking.fluent: Experiment with name 'Taste-Karachi-Rating-Regressor' does not exist. Creating a new experiment.\n"
     ]
    },
    {
     "data": {
      "text/plain": [
       "<Experiment: artifact_location='mlflow-artifacts:/15', creation_time=1761935809127, experiment_id='15', last_update_time=1761935809127, lifecycle_stage='active', name='Taste-Karachi-Rating-Regressor', tags={}>"
      ]
     },
     "execution_count": 103,
     "metadata": {},
     "output_type": "execute_result"
    }
   ],
   "source": [
    "experiment_name = \"Taste-Karachi-Rating-Regressor\"\n",
    "mlflow.set_experiment(experiment_name)"
   ]
  },
  {
   "cell_type": "code",
   "execution_count": 104,
   "id": "1ee91041",
   "metadata": {},
   "outputs": [
    {
     "name": "stdout",
     "output_type": "stream",
     "text": [
      "Creating full pipeline...\n",
      "Training model...\n",
      "MAE: 0.1851\n",
      "RMSE: 0.2561\n",
      "R² Score: 0.0747\n",
      "Logging model to MLflow...\n"
     ]
    },
    {
     "name": "stderr",
     "output_type": "stream",
     "text": [
      "/Users/salikali/VSCodeProjects/Uni/MLOps/Project/Taste-Karachi/mlops/lib/python3.11/site-packages/_distutils_hack/__init__.py:15: UserWarning: Distutils was imported before Setuptools, but importing Setuptools also replaces the `distutils` module in `sys.modules`. This may lead to undesirable behaviors or errors. To avoid these issues, avoid using distutils directly, ensure that setuptools is installed in the traditional way (e.g. not an editable install), and/or make sure that setuptools is always imported before distutils.\n",
      "  warnings.warn(\n",
      "/Users/salikali/VSCodeProjects/Uni/MLOps/Project/Taste-Karachi/mlops/lib/python3.11/site-packages/_distutils_hack/__init__.py:30: UserWarning: Setuptools is replacing distutils. Support for replacing an already imported distutils is deprecated. In the future, this condition will fail. Register concerns at https://github.com/pypa/setuptools/issues/new?template=distutils-deprecation.yml\n",
      "  warnings.warn(\n"
     ]
    },
    {
     "name": "stdout",
     "output_type": "stream",
     "text": [
      "✅ Model logged successfully!\n",
      "Run ID: e9cb9560ae4c4179b3a2d03a2633dc9c\n",
      "\n",
      "==================================================\n",
      "Experiment completed!\n",
      "View results at: http://54.196.196.185:5000\n",
      "==================================================\n"
     ]
    }
   ],
   "source": [
    "with mlflow.start_run(run_name=\"linear_regression_simple\"):\n",
    "    \n",
    "    # Define hyperparameters - Linear Regression has no hyperparameters to tune\n",
    "    random_state = 42\n",
    "    \n",
    "    # Log parameters\n",
    "    mlflow.log_param(\"model_type\", \"LinearRegression\")\n",
    "    mlflow.log_param(\"test_size\", 0.2)\n",
    "    \n",
    "    # ============================================\n",
    "    # Create FULL PIPELINE (Preprocessing + Model)\n",
    "    # ============================================\n",
    "    print(\"Creating full pipeline...\")\n",
    "    full_pipeline = Pipeline(steps=[\n",
    "        ('preprocessor', preprocessor),\n",
    "        ('model', LinearRegression())\n",
    "    ])\n",
    "    \n",
    "    # Train the pipeline\n",
    "    print(\"Training model...\")\n",
    "    full_pipeline.fit(X_train, y_train)\n",
    "    \n",
    "    # Make predictions\n",
    "    y_pred = full_pipeline.predict(X_test)\n",
    "    \n",
    "    # Calculate regression metrics\n",
    "    mae = mean_absolute_error(y_test, y_pred)\n",
    "    mse = mean_squared_error(y_test, y_pred)\n",
    "    rmse = np.sqrt(mse)\n",
    "    r2 = r2_score(y_test, y_pred)\n",
    "    \n",
    "    # Log metrics\n",
    "    mlflow.log_metric(\"mae\", mae)\n",
    "    mlflow.log_metric(\"mse\", mse)\n",
    "    mlflow.log_metric(\"rmse\", rmse)\n",
    "    mlflow.log_metric(\"r2_score\", r2)\n",
    "    \n",
    "    print(f\"MAE: {mae:.4f}\")\n",
    "    print(f\"RMSE: {rmse:.4f}\")\n",
    "    print(f\"R² Score: {r2:.4f}\")\n",
    "    \n",
    "    # ============================================\n",
    "    # STEP 5: Log the FULL PIPELINE to MLflow\n",
    "    # ============================================\n",
    "    print(\"Logging model to MLflow...\")\n",
    "    mlflow.sklearn.log_model(\n",
    "        full_pipeline,\n",
    "        \"linear_regression_model\"\n",
    "    )\n",
    "    \n",
    "    print(\"✅ Model logged successfully!\")\n",
    "    print(f\"Run ID: {mlflow.active_run().info.run_id}\")\n",
    "\n",
    "print(\"\\n\" + \"=\"*50)\n",
    "print(\"Experiment completed!\")\n",
    "print(f\"View results at: {MLFLOW_TRACKING_URI}\")\n",
    "print(\"=\"*50)"
   ]
  },
  {
   "cell_type": "code",
   "execution_count": 105,
   "id": "ef86aae2",
   "metadata": {},
   "outputs": [
    {
     "name": "stdout",
     "output_type": "stream",
     "text": [
      "--- Starting 10 Random Forest Runs ---\n"
     ]
    },
    {
     "name": "stderr",
     "output_type": "stream",
     "text": [
      "/Users/salikali/VSCodeProjects/Uni/MLOps/Project/Taste-Karachi/mlops/lib/python3.11/site-packages/_distutils_hack/__init__.py:15: UserWarning: Distutils was imported before Setuptools, but importing Setuptools also replaces the `distutils` module in `sys.modules`. This may lead to undesirable behaviors or errors. To avoid these issues, avoid using distutils directly, ensure that setuptools is installed in the traditional way (e.g. not an editable install), and/or make sure that setuptools is always imported before distutils.\n",
      "  warnings.warn(\n",
      "/Users/salikali/VSCodeProjects/Uni/MLOps/Project/Taste-Karachi/mlops/lib/python3.11/site-packages/_distutils_hack/__init__.py:30: UserWarning: Setuptools is replacing distutils. Support for replacing an already imported distutils is deprecated. In the future, this condition will fail. Register concerns at https://github.com/pypa/setuptools/issues/new?template=distutils-deprecation.yml\n",
      "  warnings.warn(\n"
     ]
    },
    {
     "name": "stdout",
     "output_type": "stream",
     "text": [
      "Completed RF Run 1/10 (MAE: 0.184, RMSE: 0.260, R²: 0.044)\n"
     ]
    },
    {
     "name": "stderr",
     "output_type": "stream",
     "text": [
      "/Users/salikali/VSCodeProjects/Uni/MLOps/Project/Taste-Karachi/mlops/lib/python3.11/site-packages/_distutils_hack/__init__.py:15: UserWarning: Distutils was imported before Setuptools, but importing Setuptools also replaces the `distutils` module in `sys.modules`. This may lead to undesirable behaviors or errors. To avoid these issues, avoid using distutils directly, ensure that setuptools is installed in the traditional way (e.g. not an editable install), and/or make sure that setuptools is always imported before distutils.\n",
      "  warnings.warn(\n",
      "/Users/salikali/VSCodeProjects/Uni/MLOps/Project/Taste-Karachi/mlops/lib/python3.11/site-packages/_distutils_hack/__init__.py:30: UserWarning: Setuptools is replacing distutils. Support for replacing an already imported distutils is deprecated. In the future, this condition will fail. Register concerns at https://github.com/pypa/setuptools/issues/new?template=distutils-deprecation.yml\n",
      "  warnings.warn(\n"
     ]
    },
    {
     "name": "stdout",
     "output_type": "stream",
     "text": [
      "Completed RF Run 2/10 (MAE: 0.181, RMSE: 0.259, R²: 0.056)\n"
     ]
    },
    {
     "name": "stderr",
     "output_type": "stream",
     "text": [
      "/Users/salikali/VSCodeProjects/Uni/MLOps/Project/Taste-Karachi/mlops/lib/python3.11/site-packages/_distutils_hack/__init__.py:15: UserWarning: Distutils was imported before Setuptools, but importing Setuptools also replaces the `distutils` module in `sys.modules`. This may lead to undesirable behaviors or errors. To avoid these issues, avoid using distutils directly, ensure that setuptools is installed in the traditional way (e.g. not an editable install), and/or make sure that setuptools is always imported before distutils.\n",
      "  warnings.warn(\n",
      "/Users/salikali/VSCodeProjects/Uni/MLOps/Project/Taste-Karachi/mlops/lib/python3.11/site-packages/_distutils_hack/__init__.py:30: UserWarning: Setuptools is replacing distutils. Support for replacing an already imported distutils is deprecated. In the future, this condition will fail. Register concerns at https://github.com/pypa/setuptools/issues/new?template=distutils-deprecation.yml\n",
      "  warnings.warn(\n"
     ]
    },
    {
     "name": "stdout",
     "output_type": "stream",
     "text": [
      "Completed RF Run 3/10 (MAE: 0.180, RMSE: 0.260, R²: 0.046)\n"
     ]
    },
    {
     "name": "stderr",
     "output_type": "stream",
     "text": [
      "/Users/salikali/VSCodeProjects/Uni/MLOps/Project/Taste-Karachi/mlops/lib/python3.11/site-packages/_distutils_hack/__init__.py:15: UserWarning: Distutils was imported before Setuptools, but importing Setuptools also replaces the `distutils` module in `sys.modules`. This may lead to undesirable behaviors or errors. To avoid these issues, avoid using distutils directly, ensure that setuptools is installed in the traditional way (e.g. not an editable install), and/or make sure that setuptools is always imported before distutils.\n",
      "  warnings.warn(\n",
      "/Users/salikali/VSCodeProjects/Uni/MLOps/Project/Taste-Karachi/mlops/lib/python3.11/site-packages/_distutils_hack/__init__.py:30: UserWarning: Setuptools is replacing distutils. Support for replacing an already imported distutils is deprecated. In the future, this condition will fail. Register concerns at https://github.com/pypa/setuptools/issues/new?template=distutils-deprecation.yml\n",
      "  warnings.warn(\n"
     ]
    },
    {
     "name": "stdout",
     "output_type": "stream",
     "text": [
      "Completed RF Run 4/10 (MAE: 0.179, RMSE: 0.257, R²: 0.066)\n"
     ]
    },
    {
     "name": "stderr",
     "output_type": "stream",
     "text": [
      "/Users/salikali/VSCodeProjects/Uni/MLOps/Project/Taste-Karachi/mlops/lib/python3.11/site-packages/_distutils_hack/__init__.py:15: UserWarning: Distutils was imported before Setuptools, but importing Setuptools also replaces the `distutils` module in `sys.modules`. This may lead to undesirable behaviors or errors. To avoid these issues, avoid using distutils directly, ensure that setuptools is installed in the traditional way (e.g. not an editable install), and/or make sure that setuptools is always imported before distutils.\n",
      "  warnings.warn(\n",
      "/Users/salikali/VSCodeProjects/Uni/MLOps/Project/Taste-Karachi/mlops/lib/python3.11/site-packages/_distutils_hack/__init__.py:30: UserWarning: Setuptools is replacing distutils. Support for replacing an already imported distutils is deprecated. In the future, this condition will fail. Register concerns at https://github.com/pypa/setuptools/issues/new?template=distutils-deprecation.yml\n",
      "  warnings.warn(\n"
     ]
    },
    {
     "name": "stdout",
     "output_type": "stream",
     "text": [
      "Completed RF Run 5/10 (MAE: 0.179, RMSE: 0.260, R²: 0.046)\n"
     ]
    },
    {
     "name": "stderr",
     "output_type": "stream",
     "text": [
      "/Users/salikali/VSCodeProjects/Uni/MLOps/Project/Taste-Karachi/mlops/lib/python3.11/site-packages/_distutils_hack/__init__.py:15: UserWarning: Distutils was imported before Setuptools, but importing Setuptools also replaces the `distutils` module in `sys.modules`. This may lead to undesirable behaviors or errors. To avoid these issues, avoid using distutils directly, ensure that setuptools is installed in the traditional way (e.g. not an editable install), and/or make sure that setuptools is always imported before distutils.\n",
      "  warnings.warn(\n",
      "/Users/salikali/VSCodeProjects/Uni/MLOps/Project/Taste-Karachi/mlops/lib/python3.11/site-packages/_distutils_hack/__init__.py:30: UserWarning: Setuptools is replacing distutils. Support for replacing an already imported distutils is deprecated. In the future, this condition will fail. Register concerns at https://github.com/pypa/setuptools/issues/new?template=distutils-deprecation.yml\n",
      "  warnings.warn(\n"
     ]
    },
    {
     "name": "stdout",
     "output_type": "stream",
     "text": [
      "Completed RF Run 6/10 (MAE: 0.184, RMSE: 0.261, R²: 0.040)\n"
     ]
    },
    {
     "name": "stderr",
     "output_type": "stream",
     "text": [
      "/Users/salikali/VSCodeProjects/Uni/MLOps/Project/Taste-Karachi/mlops/lib/python3.11/site-packages/_distutils_hack/__init__.py:15: UserWarning: Distutils was imported before Setuptools, but importing Setuptools also replaces the `distutils` module in `sys.modules`. This may lead to undesirable behaviors or errors. To avoid these issues, avoid using distutils directly, ensure that setuptools is installed in the traditional way (e.g. not an editable install), and/or make sure that setuptools is always imported before distutils.\n",
      "  warnings.warn(\n",
      "/Users/salikali/VSCodeProjects/Uni/MLOps/Project/Taste-Karachi/mlops/lib/python3.11/site-packages/_distutils_hack/__init__.py:30: UserWarning: Setuptools is replacing distutils. Support for replacing an already imported distutils is deprecated. In the future, this condition will fail. Register concerns at https://github.com/pypa/setuptools/issues/new?template=distutils-deprecation.yml\n",
      "  warnings.warn(\n"
     ]
    },
    {
     "name": "stdout",
     "output_type": "stream",
     "text": [
      "Completed RF Run 7/10 (MAE: 0.181, RMSE: 0.260, R²: 0.049)\n"
     ]
    },
    {
     "name": "stderr",
     "output_type": "stream",
     "text": [
      "/Users/salikali/VSCodeProjects/Uni/MLOps/Project/Taste-Karachi/mlops/lib/python3.11/site-packages/_distutils_hack/__init__.py:15: UserWarning: Distutils was imported before Setuptools, but importing Setuptools also replaces the `distutils` module in `sys.modules`. This may lead to undesirable behaviors or errors. To avoid these issues, avoid using distutils directly, ensure that setuptools is installed in the traditional way (e.g. not an editable install), and/or make sure that setuptools is always imported before distutils.\n",
      "  warnings.warn(\n",
      "/Users/salikali/VSCodeProjects/Uni/MLOps/Project/Taste-Karachi/mlops/lib/python3.11/site-packages/_distutils_hack/__init__.py:30: UserWarning: Setuptools is replacing distutils. Support for replacing an already imported distutils is deprecated. In the future, this condition will fail. Register concerns at https://github.com/pypa/setuptools/issues/new?template=distutils-deprecation.yml\n",
      "  warnings.warn(\n"
     ]
    },
    {
     "name": "stdout",
     "output_type": "stream",
     "text": [
      "Completed RF Run 8/10 (MAE: 0.179, RMSE: 0.258, R²: 0.059)\n"
     ]
    },
    {
     "name": "stderr",
     "output_type": "stream",
     "text": [
      "/Users/salikali/VSCodeProjects/Uni/MLOps/Project/Taste-Karachi/mlops/lib/python3.11/site-packages/_distutils_hack/__init__.py:15: UserWarning: Distutils was imported before Setuptools, but importing Setuptools also replaces the `distutils` module in `sys.modules`. This may lead to undesirable behaviors or errors. To avoid these issues, avoid using distutils directly, ensure that setuptools is installed in the traditional way (e.g. not an editable install), and/or make sure that setuptools is always imported before distutils.\n",
      "  warnings.warn(\n",
      "/Users/salikali/VSCodeProjects/Uni/MLOps/Project/Taste-Karachi/mlops/lib/python3.11/site-packages/_distutils_hack/__init__.py:30: UserWarning: Setuptools is replacing distutils. Support for replacing an already imported distutils is deprecated. In the future, this condition will fail. Register concerns at https://github.com/pypa/setuptools/issues/new?template=distutils-deprecation.yml\n",
      "  warnings.warn(\n"
     ]
    },
    {
     "name": "stdout",
     "output_type": "stream",
     "text": [
      "Completed RF Run 9/10 (MAE: 0.181, RMSE: 0.260, R²: 0.050)\n"
     ]
    },
    {
     "name": "stderr",
     "output_type": "stream",
     "text": [
      "/Users/salikali/VSCodeProjects/Uni/MLOps/Project/Taste-Karachi/mlops/lib/python3.11/site-packages/_distutils_hack/__init__.py:15: UserWarning: Distutils was imported before Setuptools, but importing Setuptools also replaces the `distutils` module in `sys.modules`. This may lead to undesirable behaviors or errors. To avoid these issues, avoid using distutils directly, ensure that setuptools is installed in the traditional way (e.g. not an editable install), and/or make sure that setuptools is always imported before distutils.\n",
      "  warnings.warn(\n",
      "/Users/salikali/VSCodeProjects/Uni/MLOps/Project/Taste-Karachi/mlops/lib/python3.11/site-packages/_distutils_hack/__init__.py:30: UserWarning: Setuptools is replacing distutils. Support for replacing an already imported distutils is deprecated. In the future, this condition will fail. Register concerns at https://github.com/pypa/setuptools/issues/new?template=distutils-deprecation.yml\n",
      "  warnings.warn(\n"
     ]
    },
    {
     "name": "stdout",
     "output_type": "stream",
     "text": [
      "Completed RF Run 10/10 (MAE: 0.179, RMSE: 0.259, R²: 0.051)\n",
      "\n",
      "--- Starting 10 Gradient Boosting Runs ---\n"
     ]
    },
    {
     "name": "stderr",
     "output_type": "stream",
     "text": [
      "/Users/salikali/VSCodeProjects/Uni/MLOps/Project/Taste-Karachi/mlops/lib/python3.11/site-packages/_distutils_hack/__init__.py:15: UserWarning: Distutils was imported before Setuptools, but importing Setuptools also replaces the `distutils` module in `sys.modules`. This may lead to undesirable behaviors or errors. To avoid these issues, avoid using distutils directly, ensure that setuptools is installed in the traditional way (e.g. not an editable install), and/or make sure that setuptools is always imported before distutils.\n",
      "  warnings.warn(\n",
      "/Users/salikali/VSCodeProjects/Uni/MLOps/Project/Taste-Karachi/mlops/lib/python3.11/site-packages/_distutils_hack/__init__.py:30: UserWarning: Setuptools is replacing distutils. Support for replacing an already imported distutils is deprecated. In the future, this condition will fail. Register concerns at https://github.com/pypa/setuptools/issues/new?template=distutils-deprecation.yml\n",
      "  warnings.warn(\n"
     ]
    },
    {
     "name": "stdout",
     "output_type": "stream",
     "text": [
      "Completed GB Run 1/10 (MAE: 0.183, RMSE: 0.258, R²: 0.061)\n"
     ]
    },
    {
     "name": "stderr",
     "output_type": "stream",
     "text": [
      "/Users/salikali/VSCodeProjects/Uni/MLOps/Project/Taste-Karachi/mlops/lib/python3.11/site-packages/_distutils_hack/__init__.py:15: UserWarning: Distutils was imported before Setuptools, but importing Setuptools also replaces the `distutils` module in `sys.modules`. This may lead to undesirable behaviors or errors. To avoid these issues, avoid using distutils directly, ensure that setuptools is installed in the traditional way (e.g. not an editable install), and/or make sure that setuptools is always imported before distutils.\n",
      "  warnings.warn(\n",
      "/Users/salikali/VSCodeProjects/Uni/MLOps/Project/Taste-Karachi/mlops/lib/python3.11/site-packages/_distutils_hack/__init__.py:30: UserWarning: Setuptools is replacing distutils. Support for replacing an already imported distutils is deprecated. In the future, this condition will fail. Register concerns at https://github.com/pypa/setuptools/issues/new?template=distutils-deprecation.yml\n",
      "  warnings.warn(\n"
     ]
    },
    {
     "name": "stdout",
     "output_type": "stream",
     "text": [
      "Completed GB Run 2/10 (MAE: 0.218, RMSE: 0.294, R²: -0.223)\n"
     ]
    },
    {
     "name": "stderr",
     "output_type": "stream",
     "text": [
      "/Users/salikali/VSCodeProjects/Uni/MLOps/Project/Taste-Karachi/mlops/lib/python3.11/site-packages/_distutils_hack/__init__.py:15: UserWarning: Distutils was imported before Setuptools, but importing Setuptools also replaces the `distutils` module in `sys.modules`. This may lead to undesirable behaviors or errors. To avoid these issues, avoid using distutils directly, ensure that setuptools is installed in the traditional way (e.g. not an editable install), and/or make sure that setuptools is always imported before distutils.\n",
      "  warnings.warn(\n",
      "/Users/salikali/VSCodeProjects/Uni/MLOps/Project/Taste-Karachi/mlops/lib/python3.11/site-packages/_distutils_hack/__init__.py:30: UserWarning: Setuptools is replacing distutils. Support for replacing an already imported distutils is deprecated. In the future, this condition will fail. Register concerns at https://github.com/pypa/setuptools/issues/new?template=distutils-deprecation.yml\n",
      "  warnings.warn(\n"
     ]
    },
    {
     "name": "stdout",
     "output_type": "stream",
     "text": [
      "Completed GB Run 3/10 (MAE: 0.219, RMSE: 0.295, R²: -0.225)\n"
     ]
    },
    {
     "name": "stderr",
     "output_type": "stream",
     "text": [
      "/Users/salikali/VSCodeProjects/Uni/MLOps/Project/Taste-Karachi/mlops/lib/python3.11/site-packages/_distutils_hack/__init__.py:15: UserWarning: Distutils was imported before Setuptools, but importing Setuptools also replaces the `distutils` module in `sys.modules`. This may lead to undesirable behaviors or errors. To avoid these issues, avoid using distutils directly, ensure that setuptools is installed in the traditional way (e.g. not an editable install), and/or make sure that setuptools is always imported before distutils.\n",
      "  warnings.warn(\n",
      "/Users/salikali/VSCodeProjects/Uni/MLOps/Project/Taste-Karachi/mlops/lib/python3.11/site-packages/_distutils_hack/__init__.py:30: UserWarning: Setuptools is replacing distutils. Support for replacing an already imported distutils is deprecated. In the future, this condition will fail. Register concerns at https://github.com/pypa/setuptools/issues/new?template=distutils-deprecation.yml\n",
      "  warnings.warn(\n"
     ]
    },
    {
     "name": "stdout",
     "output_type": "stream",
     "text": [
      "Completed GB Run 4/10 (MAE: 0.227, RMSE: 0.294, R²: -0.223)\n"
     ]
    },
    {
     "name": "stderr",
     "output_type": "stream",
     "text": [
      "/Users/salikali/VSCodeProjects/Uni/MLOps/Project/Taste-Karachi/mlops/lib/python3.11/site-packages/_distutils_hack/__init__.py:15: UserWarning: Distutils was imported before Setuptools, but importing Setuptools also replaces the `distutils` module in `sys.modules`. This may lead to undesirable behaviors or errors. To avoid these issues, avoid using distutils directly, ensure that setuptools is installed in the traditional way (e.g. not an editable install), and/or make sure that setuptools is always imported before distutils.\n",
      "  warnings.warn(\n",
      "/Users/salikali/VSCodeProjects/Uni/MLOps/Project/Taste-Karachi/mlops/lib/python3.11/site-packages/_distutils_hack/__init__.py:30: UserWarning: Setuptools is replacing distutils. Support for replacing an already imported distutils is deprecated. In the future, this condition will fail. Register concerns at https://github.com/pypa/setuptools/issues/new?template=distutils-deprecation.yml\n",
      "  warnings.warn(\n"
     ]
    },
    {
     "name": "stdout",
     "output_type": "stream",
     "text": [
      "Completed GB Run 5/10 (MAE: 0.198, RMSE: 0.267, R²: -0.006)\n"
     ]
    },
    {
     "name": "stderr",
     "output_type": "stream",
     "text": [
      "/Users/salikali/VSCodeProjects/Uni/MLOps/Project/Taste-Karachi/mlops/lib/python3.11/site-packages/_distutils_hack/__init__.py:15: UserWarning: Distutils was imported before Setuptools, but importing Setuptools also replaces the `distutils` module in `sys.modules`. This may lead to undesirable behaviors or errors. To avoid these issues, avoid using distutils directly, ensure that setuptools is installed in the traditional way (e.g. not an editable install), and/or make sure that setuptools is always imported before distutils.\n",
      "  warnings.warn(\n",
      "/Users/salikali/VSCodeProjects/Uni/MLOps/Project/Taste-Karachi/mlops/lib/python3.11/site-packages/_distutils_hack/__init__.py:30: UserWarning: Setuptools is replacing distutils. Support for replacing an already imported distutils is deprecated. In the future, this condition will fail. Register concerns at https://github.com/pypa/setuptools/issues/new?template=distutils-deprecation.yml\n",
      "  warnings.warn(\n"
     ]
    },
    {
     "name": "stdout",
     "output_type": "stream",
     "text": [
      "Completed GB Run 6/10 (MAE: 0.193, RMSE: 0.270, R²: -0.030)\n"
     ]
    },
    {
     "name": "stderr",
     "output_type": "stream",
     "text": [
      "/Users/salikali/VSCodeProjects/Uni/MLOps/Project/Taste-Karachi/mlops/lib/python3.11/site-packages/_distutils_hack/__init__.py:15: UserWarning: Distutils was imported before Setuptools, but importing Setuptools also replaces the `distutils` module in `sys.modules`. This may lead to undesirable behaviors or errors. To avoid these issues, avoid using distutils directly, ensure that setuptools is installed in the traditional way (e.g. not an editable install), and/or make sure that setuptools is always imported before distutils.\n",
      "  warnings.warn(\n",
      "/Users/salikali/VSCodeProjects/Uni/MLOps/Project/Taste-Karachi/mlops/lib/python3.11/site-packages/_distutils_hack/__init__.py:30: UserWarning: Setuptools is replacing distutils. Support for replacing an already imported distutils is deprecated. In the future, this condition will fail. Register concerns at https://github.com/pypa/setuptools/issues/new?template=distutils-deprecation.yml\n",
      "  warnings.warn(\n"
     ]
    },
    {
     "name": "stdout",
     "output_type": "stream",
     "text": [
      "Completed GB Run 7/10 (MAE: 0.188, RMSE: 0.257, R²: 0.069)\n"
     ]
    },
    {
     "name": "stderr",
     "output_type": "stream",
     "text": [
      "/Users/salikali/VSCodeProjects/Uni/MLOps/Project/Taste-Karachi/mlops/lib/python3.11/site-packages/_distutils_hack/__init__.py:15: UserWarning: Distutils was imported before Setuptools, but importing Setuptools also replaces the `distutils` module in `sys.modules`. This may lead to undesirable behaviors or errors. To avoid these issues, avoid using distutils directly, ensure that setuptools is installed in the traditional way (e.g. not an editable install), and/or make sure that setuptools is always imported before distutils.\n",
      "  warnings.warn(\n",
      "/Users/salikali/VSCodeProjects/Uni/MLOps/Project/Taste-Karachi/mlops/lib/python3.11/site-packages/_distutils_hack/__init__.py:30: UserWarning: Setuptools is replacing distutils. Support for replacing an already imported distutils is deprecated. In the future, this condition will fail. Register concerns at https://github.com/pypa/setuptools/issues/new?template=distutils-deprecation.yml\n",
      "  warnings.warn(\n"
     ]
    },
    {
     "name": "stdout",
     "output_type": "stream",
     "text": [
      "Completed GB Run 8/10 (MAE: 0.201, RMSE: 0.278, R²: -0.088)\n"
     ]
    },
    {
     "name": "stderr",
     "output_type": "stream",
     "text": [
      "/Users/salikali/VSCodeProjects/Uni/MLOps/Project/Taste-Karachi/mlops/lib/python3.11/site-packages/_distutils_hack/__init__.py:15: UserWarning: Distutils was imported before Setuptools, but importing Setuptools also replaces the `distutils` module in `sys.modules`. This may lead to undesirable behaviors or errors. To avoid these issues, avoid using distutils directly, ensure that setuptools is installed in the traditional way (e.g. not an editable install), and/or make sure that setuptools is always imported before distutils.\n",
      "  warnings.warn(\n",
      "/Users/salikali/VSCodeProjects/Uni/MLOps/Project/Taste-Karachi/mlops/lib/python3.11/site-packages/_distutils_hack/__init__.py:30: UserWarning: Setuptools is replacing distutils. Support for replacing an already imported distutils is deprecated. In the future, this condition will fail. Register concerns at https://github.com/pypa/setuptools/issues/new?template=distutils-deprecation.yml\n",
      "  warnings.warn(\n"
     ]
    },
    {
     "name": "stdout",
     "output_type": "stream",
     "text": [
      "Completed GB Run 9/10 (MAE: 0.198, RMSE: 0.267, R²: -0.006)\n"
     ]
    },
    {
     "name": "stderr",
     "output_type": "stream",
     "text": [
      "/Users/salikali/VSCodeProjects/Uni/MLOps/Project/Taste-Karachi/mlops/lib/python3.11/site-packages/_distutils_hack/__init__.py:15: UserWarning: Distutils was imported before Setuptools, but importing Setuptools also replaces the `distutils` module in `sys.modules`. This may lead to undesirable behaviors or errors. To avoid these issues, avoid using distutils directly, ensure that setuptools is installed in the traditional way (e.g. not an editable install), and/or make sure that setuptools is always imported before distutils.\n",
      "  warnings.warn(\n",
      "/Users/salikali/VSCodeProjects/Uni/MLOps/Project/Taste-Karachi/mlops/lib/python3.11/site-packages/_distutils_hack/__init__.py:30: UserWarning: Setuptools is replacing distutils. Support for replacing an already imported distutils is deprecated. In the future, this condition will fail. Register concerns at https://github.com/pypa/setuptools/issues/new?template=distutils-deprecation.yml\n",
      "  warnings.warn(\n"
     ]
    },
    {
     "name": "stdout",
     "output_type": "stream",
     "text": [
      "Completed GB Run 10/10 (MAE: 0.218, RMSE: 0.285, R²: -0.146)\n",
      "\n",
      "All 20 manual experiments complete!\n"
     ]
    }
   ],
   "source": [
    "# --- 2. Define Parameter Sampling Functions ---\n",
    "# We'll use these to get random values for each run\n",
    "\n",
    "def get_rf_params():\n",
    "    \"\"\"Generates a random set of params for Random Forest\"\"\"\n",
    "    return {\n",
    "        'n_estimators': random.randint(50, 500),\n",
    "        'max_depth': random.choice([3, 5, 7, 10, 12, 14, 20, None]),\n",
    "        'min_samples_leaf': random.randint(1, 7),\n",
    "        'min_samples_split': random.randint(2, 11),\n",
    "        'max_features': random.choice(['sqrt', 'log2', None])\n",
    "    }\n",
    "\n",
    "def get_gb_params():\n",
    "    \"\"\"Generates a random set of params for Gradient Boosting\"\"\"\n",
    "    return {\n",
    "        'n_estimators': random.randint(100, 800),\n",
    "        'learning_rate': random.uniform(0.01, 0.3),\n",
    "        'max_depth': random.choice([3, 5, 7, 9, 10, 12]),\n",
    "        'subsample': random.uniform(0.7, 1.0),\n",
    "        'min_samples_leaf': random.randint(1, 5),\n",
    "        'max_features': random.choice(['sqrt', 'log2', None])\n",
    "    }\n",
    "\n",
    "# --- 3. Run Manual Random Forest Experiments ---\n",
    "print(\"--- Starting 10 Random Forest Runs ---\")\n",
    "N_RUNS = 10\n",
    "\n",
    "for i in range(N_RUNS):\n",
    "    \n",
    "    # Start a new, independent run for each loop\n",
    "    with mlflow.start_run(run_name=f\"RandomForest_Run_{i+1}\"):\n",
    "        \n",
    "        # 1. Get random params and create model\n",
    "        rf_params = get_rf_params()\n",
    "        model = RandomForestRegressor(random_state=42, **rf_params)\n",
    "        \n",
    "        # 2. Create the full pipeline\n",
    "        model_pipeline = Pipeline(steps=[\n",
    "            ('preprocessor', preprocessor),\n",
    "            ('regressor', model)\n",
    "        ])\n",
    "        \n",
    "        # 3. Log model type and params\n",
    "        mlflow.log_param(\"model_type\", \"RandomForest\")\n",
    "        mlflow.log_params(rf_params)\n",
    "        \n",
    "        # 4. Fit the model\n",
    "        model_pipeline.fit(X_train, y_train)\n",
    "        \n",
    "        # 5. Make predictions and calculate ALL metrics\n",
    "        y_pred = model_pipeline.predict(X_test)\n",
    "        mae = mean_absolute_error(y_test, y_pred)\n",
    "        mse = mean_squared_error(y_test, y_pred)\n",
    "        rmse = np.sqrt(mse)\n",
    "        r2 = r2_score(y_test, y_pred)\n",
    "        \n",
    "        # 6. Log ALL metrics (same as linear regression)\n",
    "        mlflow.log_metric(\"mae\", mae)\n",
    "        mlflow.log_metric(\"mse\", mse)\n",
    "        mlflow.log_metric(\"rmse\", rmse)\n",
    "        mlflow.log_metric(\"r2_score\", r2)\n",
    "        \n",
    "        # 7. Log the model file itself (no registration)\n",
    "        mlflow.sklearn.log_model(model_pipeline, artifact_path=\"model\")\n",
    "        \n",
    "    print(f\"Completed RF Run {i+1}/{N_RUNS} (MAE: {mae:.3f}, RMSE: {rmse:.3f}, R²: {r2:.3f})\")\n",
    "\n",
    "print(\"\\n--- Starting 10 Gradient Boosting Runs ---\")\n",
    "\n",
    "# --- 4. Run Manual Gradient Boosting Experiments ---\n",
    "for i in range(N_RUNS):\n",
    "    \n",
    "    with mlflow.start_run(run_name=f\"GradientBoosting_Run_{i+1}\"):\n",
    "        \n",
    "        # 1. Get random params and create model\n",
    "        gb_params = get_gb_params()\n",
    "        model = GradientBoostingRegressor(random_state=42, **gb_params)\n",
    "        \n",
    "        # 2. Create the full pipeline\n",
    "        model_pipeline = Pipeline(steps=[\n",
    "            ('preprocessor', preprocessor),\n",
    "            ('regressor', model)\n",
    "        ])\n",
    "        \n",
    "        # 3. Log model type and params\n",
    "        mlflow.log_param(\"model_type\", \"GradientBoosting\")\n",
    "        mlflow.log_params(gb_params)\n",
    "        \n",
    "        # 4. Fit the model\n",
    "        model_pipeline.fit(X_train, y_train)\n",
    "        \n",
    "        # 5. Make predictions and calculate ALL metrics\n",
    "        y_pred = model_pipeline.predict(X_test)\n",
    "        mae = mean_absolute_error(y_test, y_pred)\n",
    "        mse = mean_squared_error(y_test, y_pred)\n",
    "        rmse = np.sqrt(mse)\n",
    "        r2 = r2_score(y_test, y_pred)\n",
    "        \n",
    "        # 6. Log ALL metrics (same as linear regression)\n",
    "        mlflow.log_metric(\"mae\", mae)\n",
    "        mlflow.log_metric(\"mse\", mse)\n",
    "        mlflow.log_metric(\"rmse\", rmse)\n",
    "        mlflow.log_metric(\"r2_score\", r2)\n",
    "        \n",
    "        # 7. Log the model file itself (no registration)\n",
    "        mlflow.sklearn.log_model(model_pipeline, artifact_path=\"model\")\n",
    "        \n",
    "    print(f\"Completed GB Run {i+1}/{N_RUNS} (MAE: {mae:.3f}, RMSE: {rmse:.3f}, R²: {r2:.3f})\")\n",
    "\n",
    "print(\"\\nAll 20 manual experiments complete!\")"
   ]
  },
  {
   "cell_type": "code",
   "execution_count": 106,
   "id": "1b5d4c62",
   "metadata": {},
   "outputs": [
    {
     "name": "stdout",
     "output_type": "stream",
     "text": [
      "Running RandomizedSearchCV for Gradient Boosting...\n",
      "Best parameters found:  {'regressor__learning_rate': 0.01596950334578271, 'regressor__max_depth': 4, 'regressor__max_features': 'log2', 'regressor__min_samples_leaf': 2, 'regressor__n_estimators': 435, 'regressor__subsample': 0.7545474901621302}\n",
      "Best MAE found:  0.1823960881371908\n",
      "\n",
      "Test Set Results:\n",
      "MAE: 0.1782\n",
      "RMSE: 0.2540\n",
      "R² Score: 0.0894\n"
     ]
    },
    {
     "name": "stderr",
     "output_type": "stream",
     "text": [
      "/Users/salikali/VSCodeProjects/Uni/MLOps/Project/Taste-Karachi/mlops/lib/python3.11/site-packages/_distutils_hack/__init__.py:15: UserWarning: Distutils was imported before Setuptools, but importing Setuptools also replaces the `distutils` module in `sys.modules`. This may lead to undesirable behaviors or errors. To avoid these issues, avoid using distutils directly, ensure that setuptools is installed in the traditional way (e.g. not an editable install), and/or make sure that setuptools is always imported before distutils.\n",
      "  warnings.warn(\n",
      "/Users/salikali/VSCodeProjects/Uni/MLOps/Project/Taste-Karachi/mlops/lib/python3.11/site-packages/_distutils_hack/__init__.py:30: UserWarning: Setuptools is replacing distutils. Support for replacing an already imported distutils is deprecated. In the future, this condition will fail. Register concerns at https://github.com/pypa/setuptools/issues/new?template=distutils-deprecation.yml\n",
      "  warnings.warn(\n"
     ]
    },
    {
     "name": "stdout",
     "output_type": "stream",
     "text": [
      "✅ Model logged to MLflow!\n",
      "Run ID: f61f1125f39c43b491c6ec12f13c3112\n"
     ]
    }
   ],
   "source": [
    "# randomised search cv to find best hyperparameters for gradient boosting regressor\n",
    "gb_model = Pipeline(steps=[\n",
    "    ('preprocessor', preprocessor),\n",
    "    ('regressor', GradientBoostingRegressor(random_state=42))\n",
    "])\n",
    "\n",
    "param_dist = {\n",
    "    'regressor__n_estimators': randint(50, 500),\n",
    "    'regressor__learning_rate': uniform(0.01, 0.29),\n",
    "    'regressor__max_depth': randint(3, 12),\n",
    "    'regressor__subsample': uniform(0.7, 0.3),\n",
    "    'regressor__min_samples_leaf': randint(1, 5),\n",
    "    'regressor__max_features': ['sqrt', 'log2', None]\n",
    "}\n",
    "\n",
    "random_search = RandomizedSearchCV(\n",
    "    gb_model,\n",
    "    param_distributions=param_dist,\n",
    "    n_iter=30,\n",
    "    scoring='neg_mean_absolute_error',\n",
    "    cv=5,\n",
    "    random_state=42,\n",
    "    n_jobs=-1\n",
    ")\n",
    "\n",
    "print(\"Running RandomizedSearchCV for Gradient Boosting...\")\n",
    "random_search.fit(X_train, y_train)\n",
    "\n",
    "print(\"Best parameters found: \", random_search.best_params_)\n",
    "print(\"Best MAE found: \", -random_search.best_score_)\n",
    "\n",
    "# Log to MLflow\n",
    "with mlflow.start_run(run_name=\"GradientBoosting_RandomizedSearchCV\"):\n",
    "    \n",
    "    # Get the best model\n",
    "    best_gb_model = random_search.best_estimator_\n",
    "    \n",
    "    # Log model type\n",
    "    mlflow.log_param(\"model_type\", \"GradientBoosting\")\n",
    "    mlflow.log_param(\"search_method\", \"RandomizedSearchCV\")\n",
    "    mlflow.log_param(\"cv_folds\", 5)\n",
    "    mlflow.log_param(\"n_iter\", 30)\n",
    "    \n",
    "    # Log best parameters\n",
    "    mlflow.log_params(random_search.best_params_)\n",
    "    \n",
    "    # Make predictions on test set\n",
    "    y_pred = best_gb_model.predict(X_test)\n",
    "    \n",
    "    # Calculate all metrics\n",
    "    mae = mean_absolute_error(y_test, y_pred)\n",
    "    mse = mean_squared_error(y_test, y_pred)\n",
    "    rmse = np.sqrt(mse)\n",
    "    r2 = r2_score(y_test, y_pred)\n",
    "    \n",
    "    # Log all metrics\n",
    "    mlflow.log_metric(\"mae\", mae)\n",
    "    mlflow.log_metric(\"mse\", mse)\n",
    "    mlflow.log_metric(\"rmse\", rmse)\n",
    "    mlflow.log_metric(\"r2_score\", r2)\n",
    "    mlflow.log_metric(\"cv_best_mae\", -random_search.best_score_)  # Cross-validation MAE\n",
    "    \n",
    "    print(f\"\\nTest Set Results:\")\n",
    "    print(f\"MAE: {mae:.4f}\")\n",
    "    print(f\"RMSE: {rmse:.4f}\")\n",
    "    print(f\"R² Score: {r2:.4f}\")\n",
    "    \n",
    "    # Log the best model\n",
    "    mlflow.sklearn.log_model(best_gb_model, \"best_gradient_boosting_model\")\n",
    "    \n",
    "    print(f\"✅ Model logged to MLflow!\")\n",
    "    print(f\"Run ID: {mlflow.active_run().info.run_id}\")"
   ]
  },
  {
   "cell_type": "code",
   "execution_count": 107,
   "id": "aab390b0",
   "metadata": {},
   "outputs": [
    {
     "name": "stdout",
     "output_type": "stream",
     "text": [
      "Best parameters found:  {'regressor__max_depth': 4, 'regressor__max_features': None, 'regressor__min_samples_leaf': 4, 'regressor__min_samples_split': 8, 'regressor__n_estimators': 477}\n",
      "Best MAE found:  0.1812820101832942\n",
      "Best Random Forest MAE: 0.1801\n",
      "Best Random Forest MSE: 0.0668\n",
      "Best Random Forest RMSE: 0.2584\n",
      "Best Random Forest R²: 0.0578\n"
     ]
    },
    {
     "name": "stderr",
     "output_type": "stream",
     "text": [
      "/Users/salikali/VSCodeProjects/Uni/MLOps/Project/Taste-Karachi/mlops/lib/python3.11/site-packages/_distutils_hack/__init__.py:15: UserWarning: Distutils was imported before Setuptools, but importing Setuptools also replaces the `distutils` module in `sys.modules`. This may lead to undesirable behaviors or errors. To avoid these issues, avoid using distutils directly, ensure that setuptools is installed in the traditional way (e.g. not an editable install), and/or make sure that setuptools is always imported before distutils.\n",
      "  warnings.warn(\n",
      "/Users/salikali/VSCodeProjects/Uni/MLOps/Project/Taste-Karachi/mlops/lib/python3.11/site-packages/_distutils_hack/__init__.py:30: UserWarning: Setuptools is replacing distutils. Support for replacing an already imported distutils is deprecated. In the future, this condition will fail. Register concerns at https://github.com/pypa/setuptools/issues/new?template=distutils-deprecation.yml\n",
      "  warnings.warn(\n"
     ]
    },
    {
     "name": "stdout",
     "output_type": "stream",
     "text": [
      "✅ Run ID: 2bcd65c00cfc4af786a11f76f2affad1 logged to MLflow.\n"
     ]
    }
   ],
   "source": [
    "# randomised search cv to find best hyperparameters for random forest regressor\n",
    "rf_model = Pipeline(steps=[\n",
    "    ('preprocessor', preprocessor),\n",
    "    ('regressor', RandomForestRegressor(random_state=42))\n",
    "])\n",
    "\n",
    "param_dist = {\n",
    "    'regressor__n_estimators': randint(50, 500),\n",
    "    'regressor__max_depth': randint(3, 20),\n",
    "    'regressor__min_samples_leaf': randint(1, 7),\n",
    "    'regressor__min_samples_split': randint(2, 11),\n",
    "    'regressor__max_features': ['sqrt', 'log2', None]\n",
    "}\n",
    "\n",
    "random_search_rf = RandomizedSearchCV(\n",
    "    rf_model,\n",
    "    param_distributions=param_dist,\n",
    "    n_iter=40,\n",
    "    scoring='neg_mean_absolute_error',\n",
    "    cv=5,\n",
    "    random_state=42,\n",
    "    n_jobs=-1\n",
    ")\n",
    "\n",
    "random_search_rf.fit(X_train, y_train)\n",
    "print(\"Best parameters found: \", random_search_rf.best_params_)\n",
    "print(\"Best MAE found: \", -random_search_rf.best_score_)\n",
    "\n",
    "# run best model from randomised search cv and log to mlflow\n",
    "best_rf_model = random_search_rf.best_estimator_\n",
    "\n",
    "with mlflow.start_run(run_name=\"Random_Forest_from_RandomizedSearchCV_1\") as run:\n",
    "    # Make predictions\n",
    "    y_pred = best_rf_model.predict(X_test)\n",
    "    \n",
    "    # Calculate ALL metrics\n",
    "    mae = mean_absolute_error(y_test, y_pred)\n",
    "    mse = mean_squared_error(y_test, y_pred)\n",
    "    rmse = np.sqrt(mse)\n",
    "    r2 = r2_score(y_test, y_pred)\n",
    "    \n",
    "    print(f\"Best Random Forest MAE: {mae:.4f}\")\n",
    "    print(f\"Best Random Forest MSE: {mse:.4f}\")\n",
    "    print(f\"Best Random Forest RMSE: {rmse:.4f}\")\n",
    "    print(f\"Best Random Forest R²: {r2:.4f}\")\n",
    "    \n",
    "    # Log parameters and ALL metrics to MLflow\n",
    "    mlflow.log_param(\"model_type\", \"Random Forest\")\n",
    "    mlflow.log_params(random_search_rf.best_params_)\n",
    "    mlflow.log_metric(\"mae\", mae)\n",
    "    mlflow.log_metric(\"mse\", mse)\n",
    "    mlflow.log_metric(\"rmse\", rmse)\n",
    "    mlflow.log_metric(\"r2_score\", r2)\n",
    "    \n",
    "    # Log the model itself (no registration)\n",
    "    mlflow.sklearn.log_model(best_rf_model, \"best_random_forest_model\")\n",
    "    \n",
    "    print(f\"✅ Run ID: {run.info.run_id} logged to MLflow.\")"
   ]
  }
 ],
 "metadata": {
  "kernelspec": {
   "display_name": "mlops",
   "language": "python",
   "name": "python3"
  },
  "language_info": {
   "codemirror_mode": {
    "name": "ipython",
    "version": 3
   },
   "file_extension": ".py",
   "mimetype": "text/x-python",
   "name": "python",
   "nbconvert_exporter": "python",
   "pygments_lexer": "ipython3",
   "version": "3.11.13"
  }
 },
 "nbformat": 4,
 "nbformat_minor": 5
}
